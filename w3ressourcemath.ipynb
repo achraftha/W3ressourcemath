{
 "cells": [
  {
   "cell_type": "code",
   "execution_count": 5,
   "metadata": {},
   "outputs": [
    {
     "name": "stdout",
     "output_type": "stream",
     "text": [
      "0.2617993877991494\n"
     ]
    }
   ],
   "source": [
    "import math\n",
    "deg=15\n",
    "print(math.pi * deg/180)"
   ]
  },
  {
   "cell_type": "code",
   "execution_count": 4,
   "metadata": {},
   "outputs": [
    {
     "name": "stdout",
     "output_type": "stream",
     "text": [
      "29.79380534680281\n"
     ]
    }
   ],
   "source": [
    "radian=.52\n",
    "print(180 * radian/math.pi)"
   ]
  },
  {
   "cell_type": "code",
   "execution_count": 1,
   "metadata": {},
   "outputs": [
    {
     "name": "stdout",
     "output_type": "stream",
     "text": [
      "27.5\n"
     ]
    }
   ],
   "source": [
    "height= 5\n",
    "base1=int(input(\"give the first base\"))\n",
    "base2=int(input(\"give the second base\"))\n",
    "area = height*(base1+base2)/2\n",
    "print(area)"
   ]
  },
  {
   "cell_type": "code",
   "execution_count": 2,
   "metadata": {},
   "outputs": [
    {
     "name": "stdout",
     "output_type": "stream",
     "text": [
      "30\n"
     ]
    }
   ],
   "source": [
    "base=int(input(\"give the base\"))\n",
    "height=int(input(\"give the height\"))\n",
    "area = height*base\n",
    "print(area)"
   ]
  },
  {
   "cell_type": "code",
   "execution_count": 6,
   "metadata": {},
   "outputs": [
    {
     "name": "stdout",
     "output_type": "stream",
     "text": [
      "the surface is : 376.99111843077515\n",
      "the volume is : 452.3893421169302\n"
     ]
    }
   ],
   "source": [
    "radius=int(input(\"give the radius\"))\n",
    "height=int(input(\"give the height\"))\n",
    "volume= math.pi * radius**2 *height\n",
    "surface= 2 * math.pi * radius ** 2 +2*math.pi*radius *height\n",
    "print(\"the surface is :\",surface)\n",
    "print(\"the volume is :\",volume)\n"
   ]
  },
  {
   "cell_type": "code",
   "execution_count": 8,
   "metadata": {},
   "outputs": [
    {
     "name": "stdout",
     "output_type": "stream",
     "text": [
      "the surface is : 7.0685834705770345\n",
      "the volume is : 1.7671458676442584\n"
     ]
    }
   ],
   "source": [
    "radius=float(input(\"give the radius\"))\n",
    "volume= 4/3 * math.pi * radius**3\n",
    "surface= 4 * math.pi * radius ** 2 \n",
    "print(\"the surface is :\",surface)\n",
    "print(\"the volume is :\",volume)\n"
   ]
  },
  {
   "cell_type": "code",
   "execution_count": 12,
   "metadata": {},
   "outputs": [
    {
     "name": "stdout",
     "output_type": "stream",
     "text": [
      "3.141592653589793\n"
     ]
    }
   ],
   "source": [
    "diameter=float(input(\"give the diameter\"))\n",
    "angle=float(input(\"give the angle\"))\n",
    "length = math.pi * angle/180 * (diameter/2)\n",
    "print(length)"
   ]
  },
  {
   "cell_type": "code",
   "execution_count": 13,
   "metadata": {},
   "outputs": [
    {
     "name": "stdout",
     "output_type": "stream",
     "text": [
      "3.141592653589793\n"
     ]
    }
   ],
   "source": [
    "radius=float(input(\"give the radius\"))\n",
    "angle=float(input(\"give the angle\"))\n",
    "sector = math.pi * angle/360 * radius\n",
    "print(length)"
   ]
  },
  {
   "cell_type": "code",
   "execution_count": 17,
   "metadata": {},
   "outputs": [
    {
     "name": "stdout",
     "output_type": "stream",
     "text": [
      "64.0\n"
     ]
    }
   ],
   "source": [
    "x = float(input(\"give a coefficient\"))\n",
    "y = float(input(\"give a coefficient\"))\n",
    "z = float(input(\"give a coefficient\"))\n",
    "print( -y**2 - 4*x*z)"
   ]
  },
  {
   "cell_type": "code",
   "execution_count": 23,
   "metadata": {},
   "outputs": [
    {
     "name": "stdout",
     "output_type": "stream",
     "text": [
      "the factors: [13, 12, 11, 10, 9, 7]\n",
      "the result: 1081080\n"
     ]
    }
   ],
   "source": [
    "n= int(input(\"give the size n\"))\n",
    "factors=[]\n",
    "smallest=1\n",
    "for ind in range(n,1, -1):\n",
    "    if smallest%ind!=0 :\n",
    "        factors.append(ind)\n",
    "        smallest*=ind\n",
    "print(\"the factors:\", factors)\n",
    "print(\"the result:\", smallest) "
   ]
  },
  {
   "cell_type": "code",
   "execution_count": 31,
   "metadata": {},
   "outputs": [
    {
     "name": "stdout",
     "output_type": "stream",
     "text": [
      "5434\n"
     ]
    }
   ],
   "source": [
    "n= int(input(\"give the size n\"))\n",
    "sum_squre=sum(j for j in range(1,n+1))**2\n",
    "square_sum= sum(j**2 for j in range(1, n+1))\n",
    "print(sum_squre-square_sum)"
   ]
  },
  {
   "cell_type": "code",
   "execution_count": 32,
   "metadata": {},
   "outputs": [
    {
     "name": "stdout",
     "output_type": "stream",
     "text": [
      "115\n"
     ]
    }
   ],
   "source": [
    "base= int(input(\"give the base\"))\n",
    "power= int(input(\"give the power\"))\n",
    "print ( sum(int(j) for j in str(base**power)))"
   ]
  },
  {
   "cell_type": "code",
   "execution_count": 36,
   "metadata": {},
   "outputs": [
    {
     "name": "stdout",
     "output_type": "stream",
     "text": [
      "False\n"
     ]
    }
   ],
   "source": [
    "n= int(input(\"give the size n\"))\n",
    "sum_dividors=0\n",
    "for ind in range(n,1, -1):\n",
    "    if n%ind==0 :\n",
    "        sum_dividors+=ind\n",
    "print(sum_dividors>n)"
   ]
  },
  {
   "cell_type": "code",
   "execution_count": 53,
   "metadata": {},
   "outputs": [
    {
     "name": "stdout",
     "output_type": "stream",
     "text": [
      "0\n"
     ]
    }
   ],
   "source": [
    "n= int(input(\"give the size n\"))\n",
    "amicables=set()\n",
    "for i in range(2,n+1):\n",
    "    if i in amicables:\n",
    "        continue\n",
    "    test=sum(j for j in range (1,i) if i%j==0)\n",
    "    test2=sum (j for j in range (1,test) if test%j==0)\n",
    "    if i==test2 and i!=test:\n",
    "        amicables.add(i)\n",
    "        amicables.add(test2)\n",
    "print(sum(amicables))"
   ]
  },
  {
   "cell_type": "code",
   "execution_count": 58,
   "metadata": {},
   "outputs": [
    {
     "name": "stdout",
     "output_type": "stream",
     "text": [
      "16\n"
     ]
    }
   ],
   "source": [
    "n= int(input(\"give the size n\"))\n",
    "divisors_sum=0\n",
    "for j in range(1,(n//2)+1):\n",
    "    if n%j==0:\n",
    "        divisors_sum+=j\n",
    "print(divisors_sum)"
   ]
  },
  {
   "cell_type": "code",
   "execution_count": 59,
   "metadata": {},
   "outputs": [
    {
     "name": "stdout",
     "output_type": "stream",
     "text": [
      "['ABCD', 'BACD', 'BCAD', 'BCDA', 'ACBD', 'CABD', 'CBAD', 'CBDA', 'ACDB', 'CADB', 'CDAB', 'CDBA', 'ABDC', 'BADC', 'BDAC', 'BDCA', 'ADBC', 'DABC', 'DBAC', 'DBCA', 'ADCB', 'DACB', 'DCAB', 'DCBA']\n"
     ]
    }
   ],
   "source": [
    "def permute_string(str):\n",
    "    if len(str) == 0:\n",
    "        return ['']\n",
    "    prev_list = permute_string(str[1:len(str)])\n",
    "    next_list = []\n",
    "    for i in range(0,len(prev_list)):\n",
    "        for j in range(0,len(str)):\n",
    "            new_str = prev_list[i][0:j]+str[0]+prev_list[i][j:len(str)-1]\n",
    "            if new_str not in next_list:\n",
    "                next_list.append(new_str)\n",
    "    return next_list\n",
    "\n",
    "print(permute_string('ABCD'))"
   ]
  },
  {
   "cell_type": "code",
   "execution_count": 65,
   "metadata": {},
   "outputs": [
    {
     "name": "stdout",
     "output_type": "stream",
     "text": [
      "[1, 3, 7, 9, 13, 15, 21, 25, 31, 33]\n"
     ]
    }
   ],
   "source": [
    "lucky_size= int(input(\"give the size of the lucky list\"))\n",
    "lucky_list=list(range(-1,lucky_size*lucky_size+9,2))\n",
    "i=2\n",
    "while lucky_list[i:]:lucky_list=sorted(set(lucky_list)-set(lucky_list[lucky_list[i]::lucky_list[i]]));i+=1\n",
    "print(lucky_list[1:lucky_size+1])"
   ]
  },
  {
   "cell_type": "code",
   "execution_count": 67,
   "metadata": {},
   "outputs": [
    {
     "name": "stdout",
     "output_type": "stream",
     "text": [
      "20\n"
     ]
    }
   ],
   "source": [
    "first= int(input(\"give the size n\"))\n",
    "second= int(input(\"give the size n\"))\n",
    "product=0\n",
    "for j in range(second):\n",
    "    product+=first\n",
    "print(product)"
   ]
  },
  {
   "cell_type": "code",
   "execution_count": 28,
   "metadata": {},
   "outputs": [
    {
     "name": "stdout",
     "output_type": "stream",
     "text": [
      "[2, 3, 5, 7, 11, 13, 17, 19, 23, 29, 31, 37, 41, 43, 47]\n"
     ]
    }
   ],
   "source": [
    "import math\n",
    "n=int(input(\"give the limit of the Sieve of Eratosthenes\"))\n",
    "large_list=[True for j in range(n+1)]\n",
    "for i in range(2, math.ceil((math.sqrt(n)))):\n",
    "    if large_list[i]==True:\n",
    "        for j in [i**2 +k*i for k in range(n) if i**2 +k*i<= n]:\n",
    "            large_list[j]=False\n",
    "print ( [j for j in range(2,n+1) if large_list[j]==True])"
   ]
  },
  {
   "cell_type": "code",
   "execution_count": 18,
   "metadata": {},
   "outputs": [
    {
     "name": "stdout",
     "output_type": "stream",
     "text": [
      "101\n"
     ]
    }
   ],
   "source": [
    "def ispalindrome(to_be_tested):\n",
    "    converted=str(to_be_tested)\n",
    "    if( converted==converted[::-1]):\n",
    "        return True\n",
    "    return False\n",
    "\n",
    "i=int(input(\"give the lower bound\"))\n",
    "while ispalindrome(i)==False:\n",
    "    i+=1\n",
    "\n",
    "print(i)\n",
    "\n"
   ]
  },
  {
   "cell_type": "code",
   "execution_count": 21,
   "metadata": {},
   "outputs": [
    {
     "name": "stdout",
     "output_type": "stream",
     "text": [
      "11\n"
     ]
    }
   ],
   "source": [
    "i=int(input(\"give the upper bound\"))\n",
    "while ispalindrome(i)==False:\n",
    "    i-=1\n",
    "\n",
    "print(i)"
   ]
  },
  {
   "cell_type": "code",
   "execution_count": 3,
   "metadata": {},
   "outputs": [
    {
     "name": "stdout",
     "output_type": "stream",
     "text": [
      "27/5\n"
     ]
    }
   ],
   "source": [
    "from fractions import Fraction\n",
    "value_to_calculate=float(input(\"give the value to evaluate\"))\n",
    "print(Fraction(value_to_calculate).limit_denominator())"
   ]
  },
  {
   "cell_type": "code",
   "execution_count": 17,
   "metadata": {},
   "outputs": [
    {
     "name": "stdout",
     "output_type": "stream",
     "text": [
      "428.99999999999994\n"
     ]
    }
   ],
   "source": [
    "from functools import reduce\n",
    "n=int(input(\"give the limit of the catalan series\"))\n",
    "result= reduce((lambda x, y: x * y), [(n+k)/k for k in range(2,n+1)])\n",
    "print(result)"
   ]
  },
  {
   "cell_type": "code",
   "execution_count": 21,
   "metadata": {},
   "outputs": [
    {
     "data": {
      "text/plain": [
       "'55,555'"
      ]
     },
     "execution_count": 21,
     "metadata": {},
     "output_type": "execute_result"
    }
   ],
   "source": [
    "\n",
    "n=int(input(\"give the limit of the catalan series\"))\n",
    "\n",
    "f'{n:,}'"
   ]
  },
  {
   "cell_type": "code",
   "execution_count": null,
   "metadata": {},
   "outputs": [],
   "source": [
    "from math import sqrt\n",
    "distance=sqrt((x1[0]-x2[0])**2+y1[0]-y2[0])**2)\n",
    "print(distance)"
   ]
  },
  {
   "cell_type": "code",
   "execution_count": 25,
   "metadata": {},
   "outputs": [
    {
     "name": "stdout",
     "output_type": "stream",
     "text": [
      "25.000000000000004\n"
     ]
    }
   ],
   "source": [
    "from math import tan,pi\n",
    "number_of_sides=int(input(\"give the number of sides\"))\n",
    "size_of_side=int(input(\"give the size of a side\"))\n",
    "apothem= size_of_side/(2*tan(pi/number_of_sides))\n",
    "area=number_of_sides*size_of_side*apothem/2\n",
    "print(area)"
   ]
  },
  {
   "cell_type": "code",
   "execution_count": 28,
   "metadata": {},
   "outputs": [
    {
     "name": "stdout",
     "output_type": "stream",
     "text": [
      "31.429969064035422\n"
     ]
    }
   ],
   "source": [
    "V=int(input('give speed'))\n",
    "T=int(input('give temp'))\n",
    "chill_index=13.12 + 0.6215*T - 11.37* (V**0.16) + 0.3965*T *(V**0.16)\n",
    "print(chill_index)"
   ]
  },
  {
   "cell_type": "code",
   "execution_count": 30,
   "metadata": {},
   "outputs": [
    {
     "name": "stdout",
     "output_type": "stream",
     "text": [
      "-0.8345788509735982 -1.7254211490264018\n"
     ]
    }
   ],
   "source": [
    "from math import sqrt\n",
    "\n",
    "a=int(input(\"give coef\"))\n",
    "b=int(input(\"give coef\"))\n",
    "c=int(input(\"give coef\"))\n",
    "\n",
    "disc= b**2 -4*a*c\n",
    "first_solution= (-b+sqrt(disc))/(2*a)\n",
    "second_solution= (-b-sqrt(disc))/(2*a)\n",
    "print(first_solution, second_solution)"
   ]
  },
  {
   "cell_type": "code",
   "execution_count": 33,
   "metadata": {},
   "outputs": [
    {
     "name": "stdout",
     "output_type": "stream",
     "text": [
      "43\n"
     ]
    }
   ],
   "source": [
    "c=int(input(\"give binary number\"),2)\n",
    "print(c)"
   ]
  },
  {
   "cell_type": "code",
   "execution_count": 34,
   "metadata": {},
   "outputs": [
    {
     "name": "stdout",
     "output_type": "stream",
     "text": [
      "the real part is -5.79829066331\n",
      "the imaginary part is 4.55640490659\n"
     ]
    }
   ],
   "source": [
    "Y = (-5.79829066331+4.55640490659j)\n",
    "print(\"the real part is\", Y.real)\n",
    "print(\"the imaginary part is\", Y.imag)\n"
   ]
  },
  {
   "cell_type": "code",
   "execution_count": 36,
   "metadata": {},
   "outputs": [
    {
     "name": "stdout",
     "output_type": "stream",
     "text": [
      "0j\n",
      "(-11.59658132662+9.11280981318j)\n",
      "(-12.8593489434305+52.838720056281346j)\n",
      "(-1+0j)\n"
     ]
    }
   ],
   "source": [
    "Y = (-5.79829066331+4.55640490659j)\n",
    "Z = (5.79829066331-4.55640490659j)\n",
    "print(Y+Z)\n",
    "print(Y-Z)\n",
    "print(Y*Z)\n",
    "print(Y/Z)"
   ]
  },
  {
   "cell_type": "code",
   "execution_count": 37,
   "metadata": {},
   "outputs": [
    {
     "name": "stdout",
     "output_type": "stream",
     "text": [
      "7.374347448352657 -0.6660337584770641\n"
     ]
    }
   ],
   "source": [
    "from math import sqrt, atan\n",
    "Y = (-5.79829066331+4.55640490659j)\n",
    "number_length= sqrt(Y.real**2+Y.imag**2)\n",
    "number_angle= atan(Y.imag/Y.real)\n",
    "print(number_length, number_angle)"
   ]
  },
  {
   "cell_type": "code",
   "execution_count": 45,
   "metadata": {},
   "outputs": [
    {
     "name": "stdout",
     "output_type": "stream",
     "text": [
      "(-2+2.4492935982947064e-16j)\n"
     ]
    }
   ],
   "source": [
    "import cmath\n",
    "cn1 = cmath.rect(2, cmath.pi)\n",
    "print(cn1)"
   ]
  },
  {
   "cell_type": "code",
   "execution_count": 49,
   "metadata": {},
   "outputs": [
    {
     "name": "stdout",
     "output_type": "stream",
     "text": [
      "the min is 1\n",
      "the max is 6\n"
     ]
    }
   ],
   "source": [
    "from decimal import *\n",
    "list_to_find=list(map(Decimal,input(\"give the list\").split(\",\")))\n",
    "print(\"the min is\", min(list_to_find))\n",
    "print(\"the max is\", max(list_to_find))\n"
   ]
  },
  {
   "cell_type": "code",
   "execution_count": 54,
   "metadata": {},
   "outputs": [
    {
     "name": "stdout",
     "output_type": "stream",
     "text": [
      "20.33\n",
      "[Decimal('7.25'), Decimal('3.45'), Decimal('2.69'), Decimal('2.45'), Decimal('2.45'), Decimal('2.00'), Decimal('0.04')]\n"
     ]
    }
   ],
   "source": [
    "from decimal import *\n",
    "list_to_find=list(map(Decimal,input(\"give the list\").split(\",\")))\n",
    "print(sum(list_to_find))\n",
    "list_to_find.sort(reverse=True)\n",
    "print(list_to_find)"
   ]
  },
  {
   "cell_type": "code",
   "execution_count": 56,
   "metadata": {},
   "outputs": [
    {
     "name": "stdout",
     "output_type": "stream",
     "text": [
      "2.0\n",
      "54.59815003314423\n"
     ]
    }
   ],
   "source": [
    "from math import sqrt,e\n",
    "value=int(input(\"give the integer to calculate\"))\n",
    "print(sqrt(value))\n",
    "print(e**value)"
   ]
  },
  {
   "cell_type": "code",
   "execution_count": 60,
   "metadata": {},
   "outputs": [
    {
     "name": "stdout",
     "output_type": "stream",
     "text": [
      "Context(prec=28, rounding=ROUND_HALF_EVEN, Emin=-999999, Emax=999999, capitals=1, clamp=0, flags=[], traps=[InvalidOperation, DivisionByZero, Overflow])\n"
     ]
    }
   ],
   "source": [
    "import decimal\n",
    "context = decimal.getcontext()\n",
    "# for key in context.keys():\n",
    "    # print(key)\n",
    "print(context)"
   ]
  },
  {
   "cell_type": "code",
   "execution_count": 65,
   "metadata": {},
   "outputs": [
    {
     "name": "stdout",
     "output_type": "stream",
     "text": [
      "the orignal number is 0.26598\n",
      "the numbuer at precision 1 is 0.3\n",
      "the numbuer at precision 2 is 0.27\n",
      "the numbuer at precision 3 is 0.266\n",
      "the numbuer at precision 4 is 0.2660\n"
     ]
    }
   ],
   "source": [
    "sample=float(input(\"give the sample value\"))\n",
    "print(\"the orignal number is\", sample)\n",
    "\n",
    "for j in range(1,5):\n",
    "    \n",
    "    decimal.getcontext().prec=j\n",
    "    print(\"the numbuer at precision \", j, \" is \",value*1, sep='')"
   ]
  },
  {
   "cell_type": "code",
   "execution_count": 78,
   "metadata": {},
   "outputs": [
    {
     "name": "stdout",
     "output_type": "stream",
     "text": [
      "the value up is 0.24555\n",
      "the value down is 0.24555\n"
     ]
    }
   ],
   "source": [
    "sample=0.24555\n",
    "decimal.getcontext().prec=2\n",
    "decimal.getcontext().rounding=  ROUND_UP\n",
    "print(\"the value up is\", sample*1)\n",
    "decimal.getcontext().rounding=ROUND_DOWN\n",
    "print(\"the value down is\", sample*1)\n"
   ]
  },
  {
   "cell_type": "code",
   "execution_count": 82,
   "metadata": {},
   "outputs": [
    {
     "name": "stdout",
     "output_type": "stream",
     "text": [
      "Local precision: 2\n",
      "22/7 = 3.1\n",
      "\n",
      "Default precision: 28\n",
      "22 /7 = 3.142857142857142857142857143\n"
     ]
    }
   ],
   "source": [
    "with decimal.localcontext() as context:\n",
    "    context.prec = 2\n",
    "    print('Local precision:', context.prec)\n",
    "    print('22/7 =', (decimal.Decimal('22') / 7))\n",
    "print()\n",
    "print('Default precision:', decimal.getcontext().prec)\n",
    "print('22 /7 =', (decimal.Decimal('22') / 7))"
   ]
  },
  {
   "cell_type": "code",
   "execution_count": 89,
   "metadata": {},
   "outputs": [
    {
     "name": "stdout",
     "output_type": "stream",
     "text": [
      "7/10\n"
     ]
    }
   ],
   "source": [
    "value_to_calculate=Decimal('0.7')\n",
    "print(Fraction(value_to_calculate).limit_denominator())"
   ]
  },
  {
   "cell_type": "code",
   "execution_count": 90,
   "metadata": {},
   "outputs": [
    {
     "name": "stdout",
     "output_type": "stream",
     "text": [
      "29/21\n"
     ]
    }
   ],
   "source": [
    "f1=Fraction(2,3)\n",
    "f2=Fraction(5,7)\n",
    "print(f1+f2)"
   ]
  },
  {
   "cell_type": "code",
   "execution_count": 94,
   "metadata": {},
   "outputs": [
    {
     "name": "stdout",
     "output_type": "stream",
     "text": [
      "19/6\n"
     ]
    }
   ],
   "source": [
    "value_to_calculate=pi\n",
    "print(Fraction(value_to_calculate).limit_denominator(6))\n"
   ]
  },
  {
   "cell_type": "code",
   "execution_count": 104,
   "metadata": {},
   "outputs": [
    {
     "data": {
      "text/plain": [
       "40"
      ]
     },
     "execution_count": 104,
     "metadata": {},
     "output_type": "execute_result"
    }
   ],
   "source": [
    "import random\n",
    "random.choice(range(0, 101, 2))"
   ]
  },
  {
   "cell_type": "code",
   "execution_count": 123,
   "metadata": {},
   "outputs": [
    {
     "data": {
      "text/plain": [
       "'a'"
      ]
     },
     "execution_count": 123,
     "metadata": {},
     "output_type": "execute_result"
    }
   ],
   "source": [
    "random.choice(\"achraf\")"
   ]
  },
  {
   "cell_type": "code",
   "execution_count": 129,
   "metadata": {},
   "outputs": [
    {
     "name": "stdout",
     "output_type": "stream",
     "text": [
      "None\n",
      "[3, 5, 9, 1, 7, 11]\n"
     ]
    }
   ],
   "source": [
    "initital_list=[1,3,5,7,9,11]\n",
    "print(random.shuffle(initital_list))\n",
    "print(initital_list)"
   ]
  },
  {
   "cell_type": "code",
   "execution_count": 130,
   "metadata": {},
   "outputs": [
    {
     "name": "stdout",
     "output_type": "stream",
     "text": [
      "Heads: 5010\n",
      "Tails: 4990\n"
     ]
    }
   ],
   "source": [
    "results = {\n",
    "    'heads': 0,\n",
    "    'tails': 0,\n",
    "}\n",
    "sides = list(results.keys())\n",
    "\n",
    "for i in range(10000):\n",
    "    results[random.choice(sides)] += 1\n",
    "\n",
    "print('Heads:', results['heads'])\n",
    "print('Tails:', results['tails'])"
   ]
  },
  {
   "cell_type": "code",
   "execution_count": 142,
   "metadata": {},
   "outputs": [
    {
     "data": {
      "text/plain": [
       "'green'"
      ]
     },
     "execution_count": 142,
     "metadata": {},
     "output_type": "execute_result"
    }
   ],
   "source": [
    "random.choice([\"red\",\"green\", 'blue'])"
   ]
  },
  {
   "cell_type": "code",
   "execution_count": 145,
   "metadata": {},
   "outputs": [
    {
     "data": {
      "text/plain": [
       "5.432"
      ]
     },
     "execution_count": 145,
     "metadata": {},
     "output_type": "execute_result"
    }
   ],
   "source": [
    "abs(-5.432)"
   ]
  },
  {
   "cell_type": "code",
   "execution_count": 148,
   "metadata": {},
   "outputs": [
    {
     "data": {
      "text/plain": [
       "2.23606797749979"
      ]
     },
     "execution_count": 148,
     "metadata": {},
     "output_type": "execute_result"
    }
   ],
   "source": [
    "import statistics\n",
    "statistics.stdev([4, 2, 5, 8, 6] )"
   ]
  },
  {
   "cell_type": "code",
   "execution_count": 4,
   "metadata": {},
   "outputs": [
    {
     "name": "stdout",
     "output_type": "stream",
     "text": [
      "4.0\n"
     ]
    }
   ],
   "source": [
    "mantissa = float(input(\"give the mantissa\"))\n",
    "exponent = int(input(\"give the exponent\"))\n",
    "print(mantissa*2**exponent)"
   ]
  },
  {
   "cell_type": "code",
   "execution_count": 7,
   "metadata": {},
   "outputs": [
    {
     "name": "stdout",
     "output_type": "stream",
     "text": [
      "117.85113019775791\n"
     ]
    }
   ],
   "source": [
    "from math import sqrt\n",
    "edge=float(input(\"please give the edge\"))\n",
    "volume=  edge**3/(6*sqrt(2))\n",
    "print(volume)"
   ]
  }
 ],
 "metadata": {
  "interpreter": {
   "hash": "2aa8e687454282d2a32db666050ced856d85f41368d7e67fc566ca2c9afde5e6"
  },
  "kernelspec": {
   "display_name": "Julia 1.6.2",
   "language": "python",
   "name": "python3"
  },
  "language_info": {
   "codemirror_mode": {
    "name": "ipython",
    "version": 3
   },
   "file_extension": ".py",
   "mimetype": "text/x-python",
   "name": "python",
   "nbconvert_exporter": "python",
   "pygments_lexer": "ipython3",
   "version": "3.7.6"
  },
  "orig_nbformat": 4
 },
 "nbformat": 4,
 "nbformat_minor": 2
}
