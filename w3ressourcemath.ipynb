{
 "cells": [
  {
   "cell_type": "code",
   "execution_count": 5,
   "metadata": {},
   "outputs": [
    {
     "name": "stdout",
     "output_type": "stream",
     "text": [
      "0.2617993877991494\n"
     ]
    }
   ],
   "source": [
    "import math\n",
    "deg=15\n",
    "print(math.pi * deg/180)"
   ]
  },
  {
   "cell_type": "code",
   "execution_count": 4,
   "metadata": {},
   "outputs": [
    {
     "name": "stdout",
     "output_type": "stream",
     "text": [
      "29.79380534680281\n"
     ]
    }
   ],
   "source": [
    "radian=.52\n",
    "print(180 * radian/math.pi)"
   ]
  },
  {
   "cell_type": "code",
   "execution_count": 1,
   "metadata": {},
   "outputs": [
    {
     "name": "stdout",
     "output_type": "stream",
     "text": [
      "27.5\n"
     ]
    }
   ],
   "source": [
    "height= 5\n",
    "base1=int(input(\"give the first base\"))\n",
    "base2=int(input(\"give the second base\"))\n",
    "area = height*(base1+base2)/2\n",
    "print(area)"
   ]
  },
  {
   "cell_type": "code",
   "execution_count": 2,
   "metadata": {},
   "outputs": [
    {
     "name": "stdout",
     "output_type": "stream",
     "text": [
      "30\n"
     ]
    }
   ],
   "source": [
    "base=int(input(\"give the base\"))\n",
    "height=int(input(\"give the height\"))\n",
    "area = height*base\n",
    "print(area)"
   ]
  },
  {
   "cell_type": "code",
   "execution_count": 6,
   "metadata": {},
   "outputs": [
    {
     "name": "stdout",
     "output_type": "stream",
     "text": [
      "the surface is : 376.99111843077515\n",
      "the volume is : 452.3893421169302\n"
     ]
    }
   ],
   "source": [
    "radius=int(input(\"give the radius\"))\n",
    "height=int(input(\"give the height\"))\n",
    "volume= math.pi * radius**2 *height\n",
    "surface= 2 * math.pi * radius ** 2 +2*math.pi*radius *height\n",
    "print(\"the surface is :\",surface)\n",
    "print(\"the volume is :\",volume)\n"
   ]
  },
  {
   "cell_type": "code",
   "execution_count": 8,
   "metadata": {},
   "outputs": [
    {
     "name": "stdout",
     "output_type": "stream",
     "text": [
      "the surface is : 7.0685834705770345\n",
      "the volume is : 1.7671458676442584\n"
     ]
    }
   ],
   "source": [
    "radius=float(input(\"give the radius\"))\n",
    "volume= 4/3 * math.pi * radius**3\n",
    "surface= 4 * math.pi * radius ** 2 \n",
    "print(\"the surface is :\",surface)\n",
    "print(\"the volume is :\",volume)\n"
   ]
  },
  {
   "cell_type": "code",
   "execution_count": 12,
   "metadata": {},
   "outputs": [
    {
     "name": "stdout",
     "output_type": "stream",
     "text": [
      "3.141592653589793\n"
     ]
    }
   ],
   "source": [
    "diameter=float(input(\"give the diameter\"))\n",
    "angle=float(input(\"give the angle\"))\n",
    "length = math.pi * angle/180 * (diameter/2)\n",
    "print(length)"
   ]
  },
  {
   "cell_type": "code",
   "execution_count": 13,
   "metadata": {},
   "outputs": [
    {
     "name": "stdout",
     "output_type": "stream",
     "text": [
      "3.141592653589793\n"
     ]
    }
   ],
   "source": [
    "radius=float(input(\"give the radius\"))\n",
    "angle=float(input(\"give the angle\"))\n",
    "sector = math.pi * angle/360 * radius\n",
    "print(length)"
   ]
  },
  {
   "cell_type": "code",
   "execution_count": 17,
   "metadata": {},
   "outputs": [
    {
     "name": "stdout",
     "output_type": "stream",
     "text": [
      "64.0\n"
     ]
    }
   ],
   "source": [
    "x = float(input(\"give a coefficient\"))\n",
    "y = float(input(\"give a coefficient\"))\n",
    "z = float(input(\"give a coefficient\"))\n",
    "print( -y**2 - 4*x*z)"
   ]
  },
  {
   "cell_type": "code",
   "execution_count": 23,
   "metadata": {},
   "outputs": [
    {
     "name": "stdout",
     "output_type": "stream",
     "text": [
      "the factors: [13, 12, 11, 10, 9, 7]\n",
      "the result: 1081080\n"
     ]
    }
   ],
   "source": [
    "n= int(input(\"give the size n\"))\n",
    "factors=[]\n",
    "smallest=1\n",
    "for ind in range(n,1, -1):\n",
    "    if smallest%ind!=0 :\n",
    "        factors.append(ind)\n",
    "        smallest*=ind\n",
    "print(\"the factors:\", factors)\n",
    "print(\"the result:\", smallest) "
   ]
  },
  {
   "cell_type": "code",
   "execution_count": 31,
   "metadata": {},
   "outputs": [
    {
     "name": "stdout",
     "output_type": "stream",
     "text": [
      "5434\n"
     ]
    }
   ],
   "source": [
    "n= int(input(\"give the size n\"))\n",
    "sum_squre=sum(j for j in range(1,n+1))**2\n",
    "square_sum= sum(j**2 for j in range(1, n+1))\n",
    "print(sum_squre-square_sum)"
   ]
  },
  {
   "cell_type": "code",
   "execution_count": 32,
   "metadata": {},
   "outputs": [
    {
     "name": "stdout",
     "output_type": "stream",
     "text": [
      "115\n"
     ]
    }
   ],
   "source": [
    "base= int(input(\"give the base\"))\n",
    "power= int(input(\"give the power\"))\n",
    "print ( sum(int(j) for j in str(base**power)))"
   ]
  },
  {
   "cell_type": "code",
   "execution_count": 36,
   "metadata": {},
   "outputs": [
    {
     "name": "stdout",
     "output_type": "stream",
     "text": [
      "False\n"
     ]
    }
   ],
   "source": [
    "n= int(input(\"give the size n\"))\n",
    "sum_dividors=0\n",
    "for ind in range(n,1, -1):\n",
    "    if n%ind==0 :\n",
    "        sum_dividors+=ind\n",
    "print(sum_dividors>n)"
   ]
  },
  {
   "cell_type": "code",
   "execution_count": 53,
   "metadata": {},
   "outputs": [
    {
     "name": "stdout",
     "output_type": "stream",
     "text": [
      "0\n"
     ]
    }
   ],
   "source": [
    "n= int(input(\"give the size n\"))\n",
    "amicables=set()\n",
    "for i in range(2,n+1):\n",
    "    if i in amicables:\n",
    "        continue\n",
    "    test=sum(j for j in range (1,i) if i%j==0)\n",
    "    test2=sum (j for j in range (1,test) if test%j==0)\n",
    "    if i==test2 and i!=test:\n",
    "        amicables.add(i)\n",
    "        amicables.add(test2)\n",
    "print(sum(amicables))"
   ]
  },
  {
   "cell_type": "code",
   "execution_count": 58,
   "metadata": {},
   "outputs": [
    {
     "name": "stdout",
     "output_type": "stream",
     "text": [
      "16\n"
     ]
    }
   ],
   "source": [
    "n= int(input(\"give the size n\"))\n",
    "divisors_sum=0\n",
    "for j in range(1,(n//2)+1):\n",
    "    if n%j==0:\n",
    "        divisors_sum+=j\n",
    "print(divisors_sum)"
   ]
  },
  {
   "cell_type": "code",
   "execution_count": 59,
   "metadata": {},
   "outputs": [
    {
     "name": "stdout",
     "output_type": "stream",
     "text": [
      "['ABCD', 'BACD', 'BCAD', 'BCDA', 'ACBD', 'CABD', 'CBAD', 'CBDA', 'ACDB', 'CADB', 'CDAB', 'CDBA', 'ABDC', 'BADC', 'BDAC', 'BDCA', 'ADBC', 'DABC', 'DBAC', 'DBCA', 'ADCB', 'DACB', 'DCAB', 'DCBA']\n"
     ]
    }
   ],
   "source": [
    "def permute_string(str):\n",
    "    if len(str) == 0:\n",
    "        return ['']\n",
    "    prev_list = permute_string(str[1:len(str)])\n",
    "    next_list = []\n",
    "    for i in range(0,len(prev_list)):\n",
    "        for j in range(0,len(str)):\n",
    "            new_str = prev_list[i][0:j]+str[0]+prev_list[i][j:len(str)-1]\n",
    "            if new_str not in next_list:\n",
    "                next_list.append(new_str)\n",
    "    return next_list\n",
    "\n",
    "print(permute_string('ABCD'))"
   ]
  },
  {
   "cell_type": "code",
   "execution_count": 65,
   "metadata": {},
   "outputs": [
    {
     "name": "stdout",
     "output_type": "stream",
     "text": [
      "[1, 3, 7, 9, 13, 15, 21, 25, 31, 33]\n"
     ]
    }
   ],
   "source": [
    "lucky_size= int(input(\"give the size of the lucky list\"))\n",
    "lucky_list=list(range(-1,lucky_size*lucky_size+9,2))\n",
    "i=2\n",
    "while lucky_list[i:]:lucky_list=sorted(set(lucky_list)-set(lucky_list[lucky_list[i]::lucky_list[i]]));i+=1\n",
    "print(lucky_list[1:lucky_size+1])"
   ]
  },
  {
   "cell_type": "code",
   "execution_count": 67,
   "metadata": {},
   "outputs": [
    {
     "name": "stdout",
     "output_type": "stream",
     "text": [
      "20\n"
     ]
    }
   ],
   "source": [
    "first= int(input(\"give the size n\"))\n",
    "second= int(input(\"give the size n\"))\n",
    "product=0\n",
    "for j in range(second):\n",
    "    product+=first\n",
    "print(product)"
   ]
  },
  {
   "cell_type": "code",
   "execution_count": 28,
   "metadata": {},
   "outputs": [
    {
     "name": "stdout",
     "output_type": "stream",
     "text": [
      "[2, 3, 5, 7, 11, 13, 17, 19, 23, 29, 31, 37, 41, 43, 47]\n"
     ]
    }
   ],
   "source": [
    "import math\n",
    "n=int(input(\"give the limit of the Sieve of Eratosthenes\"))\n",
    "large_list=[True for j in range(n+1)]\n",
    "for i in range(2, math.ceil((math.sqrt(n)))):\n",
    "    if large_list[i]==True:\n",
    "        for j in [i**2 +k*i for k in range(n) if i**2 +k*i<= n]:\n",
    "            large_list[j]=False\n",
    "print ( [j for j in range(2,n+1) if large_list[j]==True])"
   ]
  },
  {
   "cell_type": "code",
   "execution_count": 18,
   "metadata": {},
   "outputs": [
    {
     "name": "stdout",
     "output_type": "stream",
     "text": [
      "101\n"
     ]
    }
   ],
   "source": [
    "def ispalindrome(to_be_tested):\n",
    "    converted=str(to_be_tested)\n",
    "    if( converted==converted[::-1]):\n",
    "        return True\n",
    "    return False\n",
    "\n",
    "i=int(input(\"give the lower bound\"))\n",
    "while ispalindrome(i)==False:\n",
    "    i+=1\n",
    "\n",
    "print(i)\n",
    "\n"
   ]
  },
  {
   "cell_type": "code",
   "execution_count": 21,
   "metadata": {},
   "outputs": [
    {
     "name": "stdout",
     "output_type": "stream",
     "text": [
      "11\n"
     ]
    }
   ],
   "source": [
    "i=int(input(\"give the upper bound\"))\n",
    "while ispalindrome(i)==False:\n",
    "    i-=1\n",
    "\n",
    "print(i)"
   ]
  },
  {
   "cell_type": "code",
   "execution_count": 3,
   "metadata": {},
   "outputs": [
    {
     "name": "stdout",
     "output_type": "stream",
     "text": [
      "27/5\n"
     ]
    }
   ],
   "source": [
    "from fractions import Fraction\n",
    "value_to_calculate=float(input(\"give the value to evaluate\"))\n",
    "print(Fraction(value_to_calculate).limit_denominator())"
   ]
  },
  {
   "cell_type": "code",
   "execution_count": 17,
   "metadata": {},
   "outputs": [
    {
     "name": "stdout",
     "output_type": "stream",
     "text": [
      "428.99999999999994\n"
     ]
    }
   ],
   "source": [
    "from functools import reduce\n",
    "n=int(input(\"give the limit of the catalan series\"))\n",
    "result= reduce((lambda x, y: x * y), [(n+k)/k for k in range(2,n+1)])\n",
    "print(result)"
   ]
  },
  {
   "cell_type": "code",
   "execution_count": 21,
   "metadata": {},
   "outputs": [
    {
     "data": {
      "text/plain": [
       "'55,555'"
      ]
     },
     "execution_count": 21,
     "metadata": {},
     "output_type": "execute_result"
    }
   ],
   "source": [
    "\n",
    "n=int(input(\"give the limit of the catalan series\"))\n",
    "\n",
    "f'{n:,}'"
   ]
  },
  {
   "cell_type": "code",
   "execution_count": null,
   "metadata": {},
   "outputs": [],
   "source": [
    "from math import sqrt\n",
    "distance=sqrt((x1[0]-x2[0])**2+y1[0]-y2[0])**2)\n",
    "print(distance)"
   ]
  },
  {
   "cell_type": "code",
   "execution_count": 25,
   "metadata": {},
   "outputs": [
    {
     "name": "stdout",
     "output_type": "stream",
     "text": [
      "25.000000000000004\n"
     ]
    }
   ],
   "source": [
    "from math import tan,pi\n",
    "number_of_sides=int(input(\"give the number of sides\"))\n",
    "size_of_side=int(input(\"give the size of a side\"))\n",
    "apothem= size_of_side/(2*tan(pi/number_of_sides))\n",
    "area=number_of_sides*size_of_side*apothem/2\n",
    "print(area)"
   ]
  },
  {
   "cell_type": "code",
   "execution_count": 28,
   "metadata": {},
   "outputs": [
    {
     "name": "stdout",
     "output_type": "stream",
     "text": [
      "31.429969064035422\n"
     ]
    }
   ],
   "source": [
    "V=int(input('give speed'))\n",
    "T=int(input('give temp'))\n",
    "chill_index=13.12 + 0.6215*T - 11.37* (V**0.16) + 0.3965*T *(V**0.16)\n",
    "print(chill_index)"
   ]
  },
  {
   "cell_type": "code",
   "execution_count": 30,
   "metadata": {},
   "outputs": [
    {
     "name": "stdout",
     "output_type": "stream",
     "text": [
      "-0.8345788509735982 -1.7254211490264018\n"
     ]
    }
   ],
   "source": [
    "from math import sqrt\n",
    "\n",
    "a=int(input(\"give coef\"))\n",
    "b=int(input(\"give coef\"))\n",
    "c=int(input(\"give coef\"))\n",
    "\n",
    "disc= b**2 -4*a*c\n",
    "first_solution= (-b+sqrt(disc))/(2*a)\n",
    "second_solution= (-b-sqrt(disc))/(2*a)\n",
    "print(first_solution, second_solution)"
   ]
  },
  {
   "cell_type": "code",
   "execution_count": 33,
   "metadata": {},
   "outputs": [
    {
     "name": "stdout",
     "output_type": "stream",
     "text": [
      "43\n"
     ]
    }
   ],
   "source": [
    "c=int(input(\"give binary number\"),2)\n",
    "print(c)"
   ]
  },
  {
   "cell_type": "code",
   "execution_count": 34,
   "metadata": {},
   "outputs": [
    {
     "name": "stdout",
     "output_type": "stream",
     "text": [
      "the real part is -5.79829066331\n",
      "the imaginary part is 4.55640490659\n"
     ]
    }
   ],
   "source": [
    "Y = (-5.79829066331+4.55640490659j)\n",
    "print(\"the real part is\", Y.real)\n",
    "print(\"the imaginary part is\", Y.imag)\n"
   ]
  },
  {
   "cell_type": "code",
   "execution_count": 36,
   "metadata": {},
   "outputs": [
    {
     "name": "stdout",
     "output_type": "stream",
     "text": [
      "0j\n",
      "(-11.59658132662+9.11280981318j)\n",
      "(-12.8593489434305+52.838720056281346j)\n",
      "(-1+0j)\n"
     ]
    }
   ],
   "source": [
    "Y = (-5.79829066331+4.55640490659j)\n",
    "Z = (5.79829066331-4.55640490659j)\n",
    "print(Y+Z)\n",
    "print(Y-Z)\n",
    "print(Y*Z)\n",
    "print(Y/Z)"
   ]
  },
  {
   "cell_type": "code",
   "execution_count": 37,
   "metadata": {},
   "outputs": [
    {
     "name": "stdout",
     "output_type": "stream",
     "text": [
      "7.374347448352657 -0.6660337584770641\n"
     ]
    }
   ],
   "source": [
    "from math import sqrt, atan\n",
    "Y = (-5.79829066331+4.55640490659j)\n",
    "number_length= sqrt(Y.real**2+Y.imag**2)\n",
    "number_angle= atan(Y.imag/Y.real)\n",
    "print(number_length, number_angle)"
   ]
  },
  {
   "cell_type": "code",
   "execution_count": 45,
   "metadata": {},
   "outputs": [
    {
     "name": "stdout",
     "output_type": "stream",
     "text": [
      "(-2+2.4492935982947064e-16j)\n"
     ]
    }
   ],
   "source": [
    "import cmath\n",
    "cn1 = cmath.rect(2, cmath.pi)\n",
    "print(cn1)"
   ]
  },
  {
   "cell_type": "code",
   "execution_count": 49,
   "metadata": {},
   "outputs": [
    {
     "name": "stdout",
     "output_type": "stream",
     "text": [
      "the min is 1\n",
      "the max is 6\n"
     ]
    }
   ],
   "source": [
    "from decimal import *\n",
    "list_to_find=list(map(Decimal,input(\"give the list\").split(\",\")))\n",
    "print(\"the min is\", min(list_to_find))\n",
    "print(\"the max is\", max(list_to_find))\n"
   ]
  },
  {
   "cell_type": "code",
   "execution_count": 54,
   "metadata": {},
   "outputs": [
    {
     "name": "stdout",
     "output_type": "stream",
     "text": [
      "20.33\n",
      "[Decimal('7.25'), Decimal('3.45'), Decimal('2.69'), Decimal('2.45'), Decimal('2.45'), Decimal('2.00'), Decimal('0.04')]\n"
     ]
    }
   ],
   "source": [
    "from decimal import *\n",
    "list_to_find=list(map(Decimal,input(\"give the list\").split(\",\")))\n",
    "print(sum(list_to_find))\n",
    "list_to_find.sort(reverse=True)\n",
    "print(list_to_find)"
   ]
  },
  {
   "cell_type": "code",
   "execution_count": 56,
   "metadata": {},
   "outputs": [
    {
     "name": "stdout",
     "output_type": "stream",
     "text": [
      "2.0\n",
      "54.59815003314423\n"
     ]
    }
   ],
   "source": [
    "from math import sqrt,e\n",
    "value=int(input(\"give the integer to calculate\"))\n",
    "print(sqrt(value))\n",
    "print(e**value)"
   ]
  },
  {
   "cell_type": "code",
   "execution_count": 60,
   "metadata": {},
   "outputs": [
    {
     "name": "stdout",
     "output_type": "stream",
     "text": [
      "Context(prec=28, rounding=ROUND_HALF_EVEN, Emin=-999999, Emax=999999, capitals=1, clamp=0, flags=[], traps=[InvalidOperation, DivisionByZero, Overflow])\n"
     ]
    }
   ],
   "source": [
    "import decimal\n",
    "context = decimal.getcontext()\n",
    "# for key in context.keys():\n",
    "    # print(key)\n",
    "print(context)"
   ]
  },
  {
   "cell_type": "code",
   "execution_count": 65,
   "metadata": {},
   "outputs": [
    {
     "name": "stdout",
     "output_type": "stream",
     "text": [
      "the orignal number is 0.26598\n",
      "the numbuer at precision 1 is 0.3\n",
      "the numbuer at precision 2 is 0.27\n",
      "the numbuer at precision 3 is 0.266\n",
      "the numbuer at precision 4 is 0.2660\n"
     ]
    }
   ],
   "source": [
    "sample=float(input(\"give the sample value\"))\n",
    "print(\"the orignal number is\", sample)\n",
    "\n",
    "for j in range(1,5):\n",
    "    \n",
    "    decimal.getcontext().prec=j\n",
    "    print(\"the numbuer at precision \", j, \" is \",value*1, sep='')"
   ]
  },
  {
   "cell_type": "code",
   "execution_count": 78,
   "metadata": {},
   "outputs": [
    {
     "name": "stdout",
     "output_type": "stream",
     "text": [
      "the value up is 0.24555\n",
      "the value down is 0.24555\n"
     ]
    }
   ],
   "source": [
    "sample=0.24555\n",
    "decimal.getcontext().prec=2\n",
    "decimal.getcontext().rounding=  ROUND_UP\n",
    "print(\"the value up is\", sample*1)\n",
    "decimal.getcontext().rounding=ROUND_DOWN\n",
    "print(\"the value down is\", sample*1)\n"
   ]
  },
  {
   "cell_type": "code",
   "execution_count": 82,
   "metadata": {},
   "outputs": [
    {
     "name": "stdout",
     "output_type": "stream",
     "text": [
      "Local precision: 2\n",
      "22/7 = 3.1\n",
      "\n",
      "Default precision: 28\n",
      "22 /7 = 3.142857142857142857142857143\n"
     ]
    }
   ],
   "source": [
    "with decimal.localcontext() as context:\n",
    "    context.prec = 2\n",
    "    print('Local precision:', context.prec)\n",
    "    print('22/7 =', (decimal.Decimal('22') / 7))\n",
    "print()\n",
    "print('Default precision:', decimal.getcontext().prec)\n",
    "print('22 /7 =', (decimal.Decimal('22') / 7))"
   ]
  },
  {
   "cell_type": "code",
   "execution_count": 89,
   "metadata": {},
   "outputs": [
    {
     "name": "stdout",
     "output_type": "stream",
     "text": [
      "7/10\n"
     ]
    }
   ],
   "source": [
    "value_to_calculate=Decimal('0.7')\n",
    "print(Fraction(value_to_calculate).limit_denominator())"
   ]
  },
  {
   "cell_type": "code",
   "execution_count": 90,
   "metadata": {},
   "outputs": [
    {
     "name": "stdout",
     "output_type": "stream",
     "text": [
      "29/21\n"
     ]
    }
   ],
   "source": [
    "f1=Fraction(2,3)\n",
    "f2=Fraction(5,7)\n",
    "print(f1+f2)"
   ]
  },
  {
   "cell_type": "code",
   "execution_count": 94,
   "metadata": {},
   "outputs": [
    {
     "name": "stdout",
     "output_type": "stream",
     "text": [
      "19/6\n"
     ]
    }
   ],
   "source": [
    "value_to_calculate=pi\n",
    "print(Fraction(value_to_calculate).limit_denominator(6))\n"
   ]
  },
  {
   "cell_type": "code",
   "execution_count": 104,
   "metadata": {},
   "outputs": [
    {
     "data": {
      "text/plain": [
       "40"
      ]
     },
     "execution_count": 104,
     "metadata": {},
     "output_type": "execute_result"
    }
   ],
   "source": [
    "import random\n",
    "random.choice(range(0, 101, 2))"
   ]
  },
  {
   "cell_type": "code",
   "execution_count": 123,
   "metadata": {},
   "outputs": [
    {
     "data": {
      "text/plain": [
       "'a'"
      ]
     },
     "execution_count": 123,
     "metadata": {},
     "output_type": "execute_result"
    }
   ],
   "source": [
    "random.choice(\"achraf\")"
   ]
  },
  {
   "cell_type": "code",
   "execution_count": 129,
   "metadata": {},
   "outputs": [
    {
     "name": "stdout",
     "output_type": "stream",
     "text": [
      "None\n",
      "[3, 5, 9, 1, 7, 11]\n"
     ]
    }
   ],
   "source": [
    "initital_list=[1,3,5,7,9,11]\n",
    "print(random.shuffle(initital_list))\n",
    "print(initital_list)"
   ]
  },
  {
   "cell_type": "code",
   "execution_count": 130,
   "metadata": {},
   "outputs": [
    {
     "name": "stdout",
     "output_type": "stream",
     "text": [
      "Heads: 5010\n",
      "Tails: 4990\n"
     ]
    }
   ],
   "source": [
    "results = {\n",
    "    'heads': 0,\n",
    "    'tails': 0,\n",
    "}\n",
    "sides = list(results.keys())\n",
    "\n",
    "for i in range(10000):\n",
    "    results[random.choice(sides)] += 1\n",
    "\n",
    "print('Heads:', results['heads'])\n",
    "print('Tails:', results['tails'])"
   ]
  },
  {
   "cell_type": "code",
   "execution_count": 142,
   "metadata": {},
   "outputs": [
    {
     "data": {
      "text/plain": [
       "'green'"
      ]
     },
     "execution_count": 142,
     "metadata": {},
     "output_type": "execute_result"
    }
   ],
   "source": [
    "random.choice([\"red\",\"green\", 'blue'])"
   ]
  },
  {
   "cell_type": "code",
   "execution_count": 145,
   "metadata": {},
   "outputs": [
    {
     "data": {
      "text/plain": [
       "5.432"
      ]
     },
     "execution_count": 145,
     "metadata": {},
     "output_type": "execute_result"
    }
   ],
   "source": [
    "abs(-5.432)"
   ]
  },
  {
   "cell_type": "code",
   "execution_count": 148,
   "metadata": {},
   "outputs": [
    {
     "data": {
      "text/plain": [
       "2.23606797749979"
      ]
     },
     "execution_count": 148,
     "metadata": {},
     "output_type": "execute_result"
    }
   ],
   "source": [
    "import statistics\n",
    "statistics.stdev([4, 2, 5, 8, 6] )"
   ]
  },
  {
   "cell_type": "code",
   "execution_count": 4,
   "metadata": {},
   "outputs": [
    {
     "name": "stdout",
     "output_type": "stream",
     "text": [
      "4.0\n"
     ]
    }
   ],
   "source": [
    "mantissa = float(input(\"give the mantissa\"))\n",
    "exponent = int(input(\"give the exponent\"))\n",
    "print(mantissa*2**exponent)"
   ]
  },
  {
   "cell_type": "code",
   "execution_count": 7,
   "metadata": {},
   "outputs": [
    {
     "name": "stdout",
     "output_type": "stream",
     "text": [
      "117.85113019775791\n"
     ]
    }
   ],
   "source": [
    "from math import sqrt\n",
    "edge=float(input(\"please give the edge\"))\n",
    "volume=  edge**3/(6*sqrt(2))\n",
    "print(volume)"
   ]
  },
  {
   "cell_type": "code",
   "execution_count": 2,
   "metadata": {},
   "outputs": [
    {
     "name": "stdout",
     "output_type": "stream",
     "text": [
      "2.7182818284467594\n"
     ]
    }
   ],
   "source": [
    "from math import factorial\n",
    "\n",
    "precision=float(input(\"please give the precision wanted\"))\n",
    "value1=0\n",
    "k=0\n",
    "value2=1\n",
    "while abs(value1-value2)>precision:\n",
    "    k+=1\n",
    "    value1=value2\n",
    "    value2+=1/factorial(k)\n",
    "\n",
    "print(value2)"
   ]
  },
  {
   "cell_type": "code",
   "execution_count": 7,
   "metadata": {},
   "outputs": [
    {
     "name": "stdout",
     "output_type": "stream",
     "text": [
      "                            #                             \n",
      "                                                 *                                                 \n",
      "                                 #                                 \n",
      "                                               *                                                \n",
      "                                     #                                     \n",
      "                                              *                                              \n",
      "                                        #                                         \n",
      "                                           *                                            \n",
      "                                           #                                            \n",
      "                                        *                                         \n",
      "                                              #                                              \n",
      "                                     *                                     \n",
      "                                               #                                                \n",
      "                                 *                                 \n",
      "                                                 #                                                 \n",
      "                            *                             \n",
      "                                                 #                                                  \n",
      "                        *                         \n"
     ]
    }
   ],
   "source": [
    "from math import sin, cos, radians\n",
    "\n",
    "for n in range(1, 10):\n",
    "\tcircle_1 = 50 * (1 + sin(radians(n*10)))\n",
    "\tcircle_2 = 50 * (1 + cos(radians(n*10)))\n",
    "\tprint(\"#\".center(int(circle_1)))\n",
    "\tprint(\"*\".center(int(circle_2)))\n"
   ]
  },
  {
   "cell_type": "code",
   "execution_count": 9,
   "metadata": {},
   "outputs": [
    {
     "name": "stdout",
     "output_type": "stream",
     "text": [
      "                    .\n",
      "                   .\n",
      "                   .\n",
      "                   .\n",
      "                   .\n",
      "                   .\n",
      "                   .\n",
      "                   .\n",
      "                   .\n",
      "                   .\n"
     ]
    }
   ],
   "source": [
    "for i in range(10):\n",
    "    print(' '*int(10*cos(radians(i))+10) + '.')"
   ]
  },
  {
   "cell_type": "code",
   "execution_count": 22,
   "metadata": {},
   "outputs": [
    {
     "name": "stdout",
     "output_type": "stream",
     "text": [
      "the missing side is:  3.0\n"
     ]
    }
   ],
   "source": [
    "from math import sqrt\n",
    "side_to_calculate=set(\"x\")\n",
    "sides=set([\"a\",\"b\",\"c\"])\n",
    "while len(side_to_calculate.intersection(sides))==0:\n",
    "    side_to_calculate=set(input(\"which side do you want to calculate?\"))\n",
    "values=[]\n",
    "for j in list(sides.difference(side_to_calculate)):\n",
    "    values.append(int(input(\"length of side\")))\n",
    "if list(side_to_calculate)[0]==\"c\":\n",
    "    print(\"the value of c is\", sqrt(values[0]**2+values[1]**2))\n",
    "else :\n",
    "    print(\"the missing side is: \", sqrt(values[1]**2-values[0]**2))"
   ]
  },
  {
   "cell_type": "code",
   "execution_count": 23,
   "metadata": {},
   "outputs": [
    {
     "name": "stdout",
     "output_type": "stream",
     "text": [
      "124.0\n",
      "123.1\n",
      "123.02\n",
      "123.013\n"
     ]
    }
   ],
   "source": [
    "from math import  ceil\n",
    "original_number= float(input(\"give the starting number\"))\n",
    "for prec in range(4):\n",
    "    print( ceil(original_number*10**prec)/10**prec)"
   ]
  },
  {
   "cell_type": "code",
   "execution_count": 26,
   "metadata": {},
   "outputs": [
    {
     "name": "stdout",
     "output_type": "stream",
     "text": [
      "[0.  0.1 0.2 0.3 0.4 0.5 0.6 0.7 0.8 0.9]\n"
     ]
    }
   ],
   "source": [
    "from numpy import arange\n",
    "print(arange(0, 1, 0.1))"
   ]
  },
  {
   "cell_type": "code",
   "execution_count": 55,
   "metadata": {},
   "outputs": [
    {
     "name": "stdout",
     "output_type": "stream",
     "text": [
      "[[ 1.  2.  3.  4.  5.]\n",
      " [16. 17. 18. 19.  6.]\n",
      " [15. 24. 25. 20.  7.]\n",
      " [14. 23. 22. 21.  8.]\n",
      " [13. 12. 11. 10.  9.]]\n"
     ]
    }
   ],
   "source": [
    "import numpy as np\n",
    "n=5\n",
    "i,j=0,0\n",
    "current_max=n-1\n",
    "current_min=0\n",
    "A=np.zeros((n,n))\n",
    "for k in range(1,n**2+1):\n",
    "    A[i][j]=k\n",
    "    if i==current_max and j<current_max :\n",
    "        j+=1\n",
    "    elif j==current_min and i<current_max:\n",
    "        i+=1\n",
    "    elif (i==current_min and j>current_min):\n",
    "        j-=1\n",
    "    elif (j==current_max or i>current_min):\n",
    "        i-=1\n",
    "    if (j==current_min+1 and i==current_min):\n",
    "        current_min+=1\n",
    "        current_max-=1\n",
    "print(np.matrix.transpose(A))\n"
   ]
  },
  {
   "cell_type": "code",
   "execution_count": 61,
   "metadata": {},
   "outputs": [
    {
     "name": "stdout",
     "output_type": "stream",
     "text": [
      "2021-09-09\n"
     ]
    }
   ],
   "source": [
    "import random as rnd\n",
    "import datetime\n",
    "\n",
    "start_date = datetime.date(2021, 1, 1)\n",
    "end_date = datetime.date(2021, 12, 31)\n",
    "difference=( end_date- start_date).days\n",
    "random_number=rnd.choice(range(difference))\n",
    "print(start_date+ datetime.timedelta(days=random_number))\n"
   ]
  },
  {
   "cell_type": "code",
   "execution_count": 64,
   "metadata": {},
   "outputs": [
    {
     "name": "stdout",
     "output_type": "stream",
     "text": [
      "the gcd is  2\n"
     ]
    }
   ],
   "source": [
    "a=int(input(\"give the first value\"))\n",
    "b=int(input(\"give the second value\"))\n",
    "\n",
    "while b!=0:\n",
    "    c=b\n",
    "    b=a%b\n",
    "    a=c\n",
    "print(\"the gcd is \", a) "
   ]
  },
  {
   "cell_type": "code",
   "execution_count": 1,
   "metadata": {},
   "outputs": [
    {
     "ename": "ModuleNotFoundError",
     "evalue": "No module named 'skimage'",
     "output_type": "error",
     "traceback": [
      "\u001b[1;31m---------------------------------------------------------------------------\u001b[0m",
      "\u001b[1;31mModuleNotFoundError\u001b[0m                       Traceback (most recent call last)",
      "\u001b[1;32m<ipython-input-1-f82d29437469>\u001b[0m in \u001b[0;36m<module>\u001b[1;34m\u001b[0m\n\u001b[1;32m----> 1\u001b[1;33m \u001b[1;32mfrom\u001b[0m \u001b[0mskimage\u001b[0m\u001b[1;33m.\u001b[0m\u001b[0mcolor\u001b[0m \u001b[1;32mimport\u001b[0m \u001b[0mrgb2hsv\u001b[0m\u001b[1;33m\u001b[0m\u001b[1;33m\u001b[0m\u001b[0m\n\u001b[0m\u001b[0;32m      2\u001b[0m \u001b[1;33m\u001b[0m\u001b[0m\n\u001b[0;32m      3\u001b[0m \u001b[0mrgb2hsv\u001b[0m\u001b[1;33m(\u001b[0m\u001b[1;33m(\u001b[0m\u001b[1;36m0\u001b[0m\u001b[1;33m,\u001b[0m \u001b[1;36m0.0\u001b[0m\u001b[1;33m,\u001b[0m \u001b[1;36m100.0\u001b[0m\u001b[1;33m)\u001b[0m\u001b[1;33m)\u001b[0m\u001b[1;33m\u001b[0m\u001b[1;33m\u001b[0m\u001b[0m\n",
      "\u001b[1;31mModuleNotFoundError\u001b[0m: No module named 'skimage'"
     ]
    }
   ],
   "source": [
    "from skimage.color import rgb2hsv\n",
    "\n",
    "rgb2hsv((0, 0.0, 100.0))"
   ]
  },
  {
   "cell_type": "code",
   "execution_count": 6,
   "metadata": {},
   "outputs": [
    {
     "name": "stdout",
     "output_type": "stream",
     "text": [
      "[0, 1, 4, 9, 16, 25, 36, 49, 64, 81]\n"
     ]
    }
   ],
   "source": [
    "from math import sqrt\n",
    "up_limit=int(input(\"please give the upper bound\"))\n",
    "down_limit=int(input(\"please give the lower bound\"))\n",
    "result_list=[]\n",
    "\n",
    "for i in range(down_limit, up_limit):\n",
    "    if sqrt(i).is_integer():\n",
    "        result_list.append(i)\n",
    "\n",
    "print(result_list)"
   ]
  },
  {
   "cell_type": "code",
   "execution_count": 10,
   "metadata": {},
   "outputs": [
    {
     "name": "stdout",
     "output_type": "stream",
     "text": [
      "0x1\n"
     ]
    }
   ],
   "source": [
    "value=1\n",
    "print(hex(value))"
   ]
  },
  {
   "cell_type": "code",
   "execution_count": 15,
   "metadata": {},
   "outputs": [
    {
     "name": "stdout",
     "output_type": "stream",
     "text": [
      "81\n",
      "91\n",
      "40\n",
      "71\n",
      "56\n",
      "61\n",
      "78\n",
      "41\n",
      "31\n",
      "98\n"
     ]
    }
   ],
   "source": [
    "import random as rnd\n",
    "for j in range(10):\n",
    "    print(rnd.randint(1,100))"
   ]
  },
  {
   "cell_type": "code",
   "execution_count": 21,
   "metadata": {},
   "outputs": [
    {
     "name": "stdout",
     "output_type": "stream",
     "text": [
      "16\n"
     ]
    }
   ],
   "source": [
    "\n",
    "n=input(\"give the number\")\n",
    "if n.isnumeric():\n",
    "    n=int(n)\n",
    "    S=sum([j for j in range(1,n) if n%j==0])\n",
    "    print(S)\n",
    "else:\n",
    "    print(\"please select an integer\")"
   ]
  },
  {
   "cell_type": "code",
   "execution_count": 23,
   "metadata": {},
   "outputs": [
    {
     "name": "stdout",
     "output_type": "stream",
     "text": [
      "10.0\n"
     ]
    }
   ],
   "source": [
    "n=int(input(\"give the number\"))\n",
    "print(n*(n+1)*(n+2)/6)"
   ]
  },
  {
   "cell_type": "code",
   "execution_count": 26,
   "metadata": {},
   "outputs": [
    {
     "name": "stdout",
     "output_type": "stream",
     "text": [
      "618507\n"
     ]
    }
   ],
   "source": [
    "start=int(input(\"give the number\"))\n",
    "end =int(input(\"give the number\"))\n",
    "power=int(input(\"give the number\"))\n",
    "S=sum([j**power for j in range(start, end+1)])\n",
    "print(S)"
   ]
  },
  {
   "cell_type": "code",
   "execution_count": 30,
   "metadata": {},
   "outputs": [
    {
     "name": "stdout",
     "output_type": "stream",
     "text": [
      "Hamming distance between 2 and 3 is 1\n",
      "Hamming distance between 43 and 87 is 5\n"
     ]
    }
   ],
   "source": [
    "def hamming_distance(x, y):\n",
    "  return bin(x ^ y).count('1')\n",
    "x = 2 \n",
    "y = 3\n",
    "print(\"Hamming distance between\",x,\"and\",y,\"is\",hamming_distance(x, y))\n",
    "x = 43 \n",
    "y = 87\n",
    "print(\"Hamming distance between\",x,\"and\",y,\"is\",hamming_distance(x, y))"
   ]
  },
  {
   "cell_type": "code",
   "execution_count": 32,
   "metadata": {},
   "outputs": [
    {
     "name": "stdout",
     "output_type": "stream",
     "text": [
      "5\n"
     ]
    }
   ],
   "source": [
    "number= int(input(\"give the number\"))\n",
    "x= int(input(\"give the number\"))\n",
    "y= int(input(\"give the number\"))\n",
    "smaller=min(x,y)\n",
    "bigger=max(x,y)\n",
    "if number<smaller:\n",
    "    number=smaller\n",
    "if number>bigger:\n",
    "    number=bigger\n",
    "print(number)"
   ]
  },
  {
   "cell_type": "code",
   "execution_count": 35,
   "metadata": {},
   "outputs": [
    {
     "name": "stdout",
     "output_type": "stream",
     "text": [
      "True\n"
     ]
    }
   ],
   "source": [
    "number= int(input(\"give the number\"))\n",
    "tmp=0\n",
    "for index,letter in enumerate(str(number)):\n",
    "    tmp+=int(letter)**(index+1)\n",
    "print(tmp==number)  "
   ]
  }
 ],
 "metadata": {
  "interpreter": {
   "hash": "2aa8e687454282d2a32db666050ced856d85f41368d7e67fc566ca2c9afde5e6"
  },
  "kernelspec": {
   "display_name": "Julia 1.6.2",
   "language": "python",
   "name": "python3"
  },
  "language_info": {
   "codemirror_mode": {
    "name": "ipython",
    "version": 3
   },
   "file_extension": ".py",
   "mimetype": "text/x-python",
   "name": "python",
   "nbconvert_exporter": "python",
   "pygments_lexer": "ipython3",
   "version": "3.7.6"
  },
  "orig_nbformat": 4
 },
 "nbformat": 4,
 "nbformat_minor": 2
}
