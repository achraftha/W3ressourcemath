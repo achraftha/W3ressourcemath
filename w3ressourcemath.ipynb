{
 "cells": [
  {
   "cell_type": "code",
   "execution_count": 5,
   "metadata": {},
   "outputs": [
    {
     "name": "stdout",
     "output_type": "stream",
     "text": [
      "0.2617993877991494\n"
     ]
    }
   ],
   "source": [
    "import math\n",
    "deg=15\n",
    "print(math.pi * deg/180)"
   ]
  },
  {
   "cell_type": "code",
   "execution_count": 4,
   "metadata": {},
   "outputs": [
    {
     "name": "stdout",
     "output_type": "stream",
     "text": [
      "29.79380534680281\n"
     ]
    }
   ],
   "source": [
    "radian=.52\n",
    "print(180 * radian/math.pi)"
   ]
  },
  {
   "cell_type": "code",
   "execution_count": 1,
   "metadata": {},
   "outputs": [
    {
     "name": "stdout",
     "output_type": "stream",
     "text": [
      "27.5\n"
     ]
    }
   ],
   "source": [
    "height= 5\n",
    "base1=int(input(\"give the first base\"))\n",
    "base2=int(input(\"give the second base\"))\n",
    "area = height*(base1+base2)/2\n",
    "print(area)"
   ]
  },
  {
   "cell_type": "code",
   "execution_count": 2,
   "metadata": {},
   "outputs": [
    {
     "name": "stdout",
     "output_type": "stream",
     "text": [
      "30\n"
     ]
    }
   ],
   "source": [
    "base=int(input(\"give the base\"))\n",
    "height=int(input(\"give the height\"))\n",
    "area = height*base\n",
    "print(area)"
   ]
  },
  {
   "cell_type": "code",
   "execution_count": 6,
   "metadata": {},
   "outputs": [
    {
     "name": "stdout",
     "output_type": "stream",
     "text": [
      "the surface is : 376.99111843077515\n",
      "the volume is : 452.3893421169302\n"
     ]
    }
   ],
   "source": [
    "radius=int(input(\"give the radius\"))\n",
    "height=int(input(\"give the height\"))\n",
    "volume= math.pi * radius**2 *height\n",
    "surface= 2 * math.pi * radius ** 2 +2*math.pi*radius *height\n",
    "print(\"the surface is :\",surface)\n",
    "print(\"the volume is :\",volume)\n"
   ]
  },
  {
   "cell_type": "code",
   "execution_count": 8,
   "metadata": {},
   "outputs": [
    {
     "name": "stdout",
     "output_type": "stream",
     "text": [
      "the surface is : 7.0685834705770345\n",
      "the volume is : 1.7671458676442584\n"
     ]
    }
   ],
   "source": [
    "radius=float(input(\"give the radius\"))\n",
    "volume= 4/3 * math.pi * radius**3\n",
    "surface= 4 * math.pi * radius ** 2 \n",
    "print(\"the surface is :\",surface)\n",
    "print(\"the volume is :\",volume)\n"
   ]
  },
  {
   "cell_type": "code",
   "execution_count": 12,
   "metadata": {},
   "outputs": [
    {
     "name": "stdout",
     "output_type": "stream",
     "text": [
      "3.141592653589793\n"
     ]
    }
   ],
   "source": [
    "diameter=float(input(\"give the diameter\"))\n",
    "angle=float(input(\"give the angle\"))\n",
    "length = math.pi * angle/180 * (diameter/2)\n",
    "print(length)"
   ]
  },
  {
   "cell_type": "code",
   "execution_count": 13,
   "metadata": {},
   "outputs": [
    {
     "name": "stdout",
     "output_type": "stream",
     "text": [
      "3.141592653589793\n"
     ]
    }
   ],
   "source": [
    "radius=float(input(\"give the radius\"))\n",
    "angle=float(input(\"give the angle\"))\n",
    "sector = math.pi * angle/360 * radius\n",
    "print(length)"
   ]
  },
  {
   "cell_type": "code",
   "execution_count": 17,
   "metadata": {},
   "outputs": [
    {
     "name": "stdout",
     "output_type": "stream",
     "text": [
      "64.0\n"
     ]
    }
   ],
   "source": [
    "x = float(input(\"give a coefficient\"))\n",
    "y = float(input(\"give a coefficient\"))\n",
    "z = float(input(\"give a coefficient\"))\n",
    "print( -y**2 - 4*x*z)"
   ]
  },
  {
   "cell_type": "code",
   "execution_count": 23,
   "metadata": {},
   "outputs": [
    {
     "name": "stdout",
     "output_type": "stream",
     "text": [
      "the factors: [13, 12, 11, 10, 9, 7]\n",
      "the result: 1081080\n"
     ]
    }
   ],
   "source": [
    "n= int(input(\"give the size n\"))\n",
    "factors=[]\n",
    "smallest=1\n",
    "for ind in range(n,1, -1):\n",
    "    if smallest%ind!=0 :\n",
    "        factors.append(ind)\n",
    "        smallest*=ind\n",
    "print(\"the factors:\", factors)\n",
    "print(\"the result:\", smallest) "
   ]
  },
  {
   "cell_type": "code",
   "execution_count": 31,
   "metadata": {},
   "outputs": [
    {
     "name": "stdout",
     "output_type": "stream",
     "text": [
      "5434\n"
     ]
    }
   ],
   "source": [
    "n= int(input(\"give the size n\"))\n",
    "sum_squre=sum(j for j in range(1,n+1))**2\n",
    "square_sum= sum(j**2 for j in range(1, n+1))\n",
    "print(sum_squre-square_sum)"
   ]
  },
  {
   "cell_type": "code",
   "execution_count": 32,
   "metadata": {},
   "outputs": [
    {
     "name": "stdout",
     "output_type": "stream",
     "text": [
      "115\n"
     ]
    }
   ],
   "source": [
    "base= int(input(\"give the base\"))\n",
    "power= int(input(\"give the power\"))\n",
    "print ( sum(int(j) for j in str(base**power)))"
   ]
  },
  {
   "cell_type": "code",
   "execution_count": 36,
   "metadata": {},
   "outputs": [
    {
     "name": "stdout",
     "output_type": "stream",
     "text": [
      "False\n"
     ]
    }
   ],
   "source": [
    "n= int(input(\"give the size n\"))\n",
    "sum_dividors=0\n",
    "for ind in range(n,1, -1):\n",
    "    if n%ind==0 :\n",
    "        sum_dividors+=ind\n",
    "print(sum_dividors>n)"
   ]
  },
  {
   "cell_type": "code",
   "execution_count": 53,
   "metadata": {},
   "outputs": [
    {
     "name": "stdout",
     "output_type": "stream",
     "text": [
      "0\n"
     ]
    }
   ],
   "source": [
    "n= int(input(\"give the size n\"))\n",
    "amicables=set()\n",
    "for i in range(2,n+1):\n",
    "    if i in amicables:\n",
    "        continue\n",
    "    test=sum(j for j in range (1,i) if i%j==0)\n",
    "    test2=sum (j for j in range (1,test) if test%j==0)\n",
    "    if i==test2 and i!=test:\n",
    "        amicables.add(i)\n",
    "        amicables.add(test2)\n",
    "print(sum(amicables))"
   ]
  },
  {
   "cell_type": "code",
   "execution_count": 58,
   "metadata": {},
   "outputs": [
    {
     "name": "stdout",
     "output_type": "stream",
     "text": [
      "16\n"
     ]
    }
   ],
   "source": [
    "n= int(input(\"give the size n\"))\n",
    "divisors_sum=0\n",
    "for j in range(1,(n//2)+1):\n",
    "    if n%j==0:\n",
    "        divisors_sum+=j\n",
    "print(divisors_sum)"
   ]
  },
  {
   "cell_type": "code",
   "execution_count": 59,
   "metadata": {},
   "outputs": [
    {
     "name": "stdout",
     "output_type": "stream",
     "text": [
      "['ABCD', 'BACD', 'BCAD', 'BCDA', 'ACBD', 'CABD', 'CBAD', 'CBDA', 'ACDB', 'CADB', 'CDAB', 'CDBA', 'ABDC', 'BADC', 'BDAC', 'BDCA', 'ADBC', 'DABC', 'DBAC', 'DBCA', 'ADCB', 'DACB', 'DCAB', 'DCBA']\n"
     ]
    }
   ],
   "source": [
    "def permute_string(str):\n",
    "    if len(str) == 0:\n",
    "        return ['']\n",
    "    prev_list = permute_string(str[1:len(str)])\n",
    "    next_list = []\n",
    "    for i in range(0,len(prev_list)):\n",
    "        for j in range(0,len(str)):\n",
    "            new_str = prev_list[i][0:j]+str[0]+prev_list[i][j:len(str)-1]\n",
    "            if new_str not in next_list:\n",
    "                next_list.append(new_str)\n",
    "    return next_list\n",
    "\n",
    "print(permute_string('ABCD'))"
   ]
  },
  {
   "cell_type": "code",
   "execution_count": 65,
   "metadata": {},
   "outputs": [
    {
     "name": "stdout",
     "output_type": "stream",
     "text": [
      "[1, 3, 7, 9, 13, 15, 21, 25, 31, 33]\n"
     ]
    }
   ],
   "source": [
    "lucky_size= int(input(\"give the size of the lucky list\"))\n",
    "lucky_list=list(range(-1,lucky_size*lucky_size+9,2))\n",
    "i=2\n",
    "while lucky_list[i:]:lucky_list=sorted(set(lucky_list)-set(lucky_list[lucky_list[i]::lucky_list[i]]));i+=1\n",
    "print(lucky_list[1:lucky_size+1])"
   ]
  },
  {
   "cell_type": "code",
   "execution_count": 67,
   "metadata": {},
   "outputs": [
    {
     "name": "stdout",
     "output_type": "stream",
     "text": [
      "20\n"
     ]
    }
   ],
   "source": [
    "first= int(input(\"give the size n\"))\n",
    "second= int(input(\"give the size n\"))\n",
    "product=0\n",
    "for j in range(second):\n",
    "    product+=first\n",
    "print(product)"
   ]
  }
 ],
 "metadata": {
  "interpreter": {
   "hash": "2aa8e687454282d2a32db666050ced856d85f41368d7e67fc566ca2c9afde5e6"
  },
  "kernelspec": {
   "display_name": "Julia 1.6.2",
   "language": "python",
   "name": "python3"
  },
  "language_info": {
   "codemirror_mode": {
    "name": "ipython",
    "version": 3
   },
   "file_extension": ".py",
   "mimetype": "text/x-python",
   "name": "python",
   "nbconvert_exporter": "python",
   "pygments_lexer": "ipython3",
   "version": "3.7.6"
  },
  "orig_nbformat": 4
 },
 "nbformat": 4,
 "nbformat_minor": 2
}
